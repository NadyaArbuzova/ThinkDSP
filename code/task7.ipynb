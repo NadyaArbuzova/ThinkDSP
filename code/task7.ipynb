{
 "cells": [
  {
   "cell_type": "code",
   "execution_count": 1,
   "id": "20384162-9aa2-4bfa-a18a-521f8281647b",
   "metadata": {},
   "outputs": [],
   "source": [
    "import numpy as np\n",
    "PI2 = 2 * np.pi"
   ]
  },
  {
   "cell_type": "code",
   "execution_count": 2,
   "id": "17ab965c-10f9-4dee-9f0a-df5d3fb951b9",
   "metadata": {},
   "outputs": [
    {
     "name": "stdout",
     "output_type": "stream",
     "text": [
      "[ 0.2+0.j  -1.2-0.2j  0.2+0.j  -1.2+0.2j]\n"
     ]
    }
   ],
   "source": [
    "ys = [-0.5, 0.1, 0.7, -0.1]\n",
    "hs = np.fft.fft(ys)\n",
    "print(hs)"
   ]
  },
  {
   "cell_type": "code",
   "execution_count": 3,
   "id": "670717f1-97e1-45d8-a822-ee588b395de2",
   "metadata": {},
   "outputs": [],
   "source": [
    "def dft(ys):\n",
    "    N = len(ys)\n",
    "    ts = np.arange(N) / N\n",
    "    freqs = np.arange(N)\n",
    "    args = np.outer(ts, freqs)\n",
    "    M = np.exp(1j * PI2 * args)\n",
    "    amps = M.conj().transpose().dot(ys)\n",
    "    return amps"
   ]
  },
  {
   "cell_type": "code",
   "execution_count": 13,
   "id": "e41663de-8108-4072-b9c8-1e56189e4f39",
   "metadata": {},
   "outputs": [
    {
     "name": "stdout",
     "output_type": "stream",
     "text": [
      "[ 0.2+0.00000000e+00j -1.2-2.00000000e-01j  0.2+1.95943488e-16j\n",
      " -1.2+2.00000000e-01j]\n"
     ]
    }
   ],
   "source": [
    "hs2 = dft(ys)\n",
    "np.sum(np.abs(hs - hs2))\n",
    "print(hs2)"
   ]
  },
  {
   "cell_type": "code",
   "execution_count": 5,
   "id": "188ec5db-a6e6-4195-ae37-6ab82c525f43",
   "metadata": {},
   "outputs": [],
   "source": [
    "def fft_norec(ys):\n",
    "    N = len(ys)\n",
    "    He = np.fft.fft(ys[::2])\n",
    "    Ho = np.fft.fft(ys[1::2])\n",
    "    \n",
    "    ns = np.arange(N)\n",
    "    W = np.exp(-1j * PI2 * ns / N)\n",
    "    \n",
    "    return np.tile(He, 2) + W * np.tile(Ho, 2)"
   ]
  },
  {
   "cell_type": "code",
   "execution_count": 19,
   "id": "475e2ac2-ac3d-410c-8e2a-5be2e8a05824",
   "metadata": {},
   "outputs": [
    {
     "name": "stdout",
     "output_type": "stream",
     "text": [
      "[ 0.2+0.j  -1.2-0.2j  0.2+0.j  -1.2+0.2j]\n"
     ]
    }
   ],
   "source": [
    "hs3 = fft_norec(ys)\n",
    "np.sum(np.abs(hs - hs3))\n",
    "print(hs3)"
   ]
  },
  {
   "cell_type": "code",
   "execution_count": 7,
   "id": "ba8d3165-d4c0-4348-9a7e-bab1d54f2784",
   "metadata": {},
   "outputs": [],
   "source": [
    "def fft(ys):\n",
    "    N = len(ys)\n",
    "    if N == 1:\n",
    "        return ys\n",
    "    \n",
    "    He = fft(ys[::2])\n",
    "    Ho = fft(ys[1::2])\n",
    "    \n",
    "    ns = np.arange(N)\n",
    "    W = np.exp(-1j * PI2 * ns / N)\n",
    "    \n",
    "    return np.tile(He, 2) + W * np.tile(Ho, 2)"
   ]
  },
  {
   "cell_type": "code",
   "execution_count": 20,
   "id": "eee39304-4485-4fbf-8088-50e6695ac51a",
   "metadata": {},
   "outputs": [
    {
     "name": "stdout",
     "output_type": "stream",
     "text": [
      "[ 0.2+0.j  -1.2-0.2j  0.2+0.j  -1.2+0.2j]\n"
     ]
    }
   ],
   "source": [
    "hs4 = fft(ys)\n",
    "np.sum(np.abs(hs - hs4))\n",
    "print(hs4)"
   ]
  },
  {
   "cell_type": "code",
   "execution_count": null,
   "id": "e4e7074b-b67b-4fe3-9200-58e4d3a26e8e",
   "metadata": {},
   "outputs": [],
   "source": []
  }
 ],
 "metadata": {
  "kernelspec": {
   "display_name": "Python 3 (ipykernel)",
   "language": "python",
   "name": "python3"
  },
  "language_info": {
   "codemirror_mode": {
    "name": "ipython",
    "version": 3
   },
   "file_extension": ".py",
   "mimetype": "text/x-python",
   "name": "python",
   "nbconvert_exporter": "python",
   "pygments_lexer": "ipython3",
   "version": "3.12.0"
  }
 },
 "nbformat": 4,
 "nbformat_minor": 5
}
